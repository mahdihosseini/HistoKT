{
 "cells": [
  {
   "cell_type": "code",
   "execution_count": 9,
   "metadata": {
    "collapsed": true
   },
   "outputs": [],
   "source": [
    "import matplotlib.pyplot as plt\n",
    "import numpy as np\n",
    "import pandas as pd\n",
    "from results_plot import plot_results_for_dir, \\\n",
    "    plot_result, plot_trials, get_values, get_values_for_file_list\n",
    "from collections import defaultdict\n",
    "import os\n",
    "from lr_tuning import get_file_list, \\\n",
    "    get_file_dicts, \\\n",
    "    get_relevant_metrics, \\\n",
    "    get_aggregated_values, get_mean_stddev, get_csvs"
   ]
  },
  {
   "cell_type": "code",
   "execution_count": 10,
   "outputs": [],
   "source": [
    "# functions to parse stuff\n",
    "for optimizer in [\"Adas\",\n",
    "                  \"SAM\",\n",
    "                  \"AdaM\",\n",
    "                  \"SGDP\"]:\n",
    "    root = f\"C:\\\\Users\\\\ryanr\\\\Desktop\\\\Summer_Research\\\\HistoKT\\\\.adas-data\\\\results\\\\{optimizer}\\\\output\"\n",
    "    get_csvs(root, optimizer)"
   ],
   "metadata": {
    "collapsed": false,
    "pycharm": {
     "name": "#%%\n"
    }
   }
  },
  {
   "cell_type": "code",
   "execution_count": null,
   "outputs": [],
   "source": [],
   "metadata": {
    "collapsed": false,
    "pycharm": {
     "name": "#%%\n"
    }
   }
  }
 ],
 "metadata": {
  "kernelspec": {
   "display_name": "Python 3",
   "language": "python",
   "name": "python3"
  },
  "language_info": {
   "codemirror_mode": {
    "name": "ipython",
    "version": 2
   },
   "file_extension": ".py",
   "mimetype": "text/x-python",
   "name": "python",
   "nbconvert_exporter": "python",
   "pygments_lexer": "ipython2",
   "version": "2.7.6"
  }
 },
 "nbformat": 4,
 "nbformat_minor": 0
}