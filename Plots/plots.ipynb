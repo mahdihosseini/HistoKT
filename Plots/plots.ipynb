{
 "cells": [
  {
   "cell_type": "code",
   "execution_count": 9,
   "metadata": {
    "collapsed": true
   },
   "outputs": [],
   "source": [
    "import matplotlib.pyplot as plt\n",
    "import numpy as np\n",
    "import pandas as pd\n",
    "from results_plot import plot_results_for_dir, \\\n",
    "    plot_result, plot_trials, get_values, get_values_for_file_list\n",
    "from collections import defaultdict\n",
    "import os\n",
    "from lr_tuning import get_file_list, \\\n",
    "    get_file_dicts, \\\n",
    "    get_relevant_metrics, \\\n",
    "    get_aggregated_values, get_mean_stddev"
   ]
  },
  {
   "cell_type": "code",
   "execution_count": 10,
   "outputs": [],
   "source": [
    "def get_csvs(root, optimizer):\n",
    "    files_list = get_file_list(root)\n",
    "\n",
    "    deep_dict, fine_dict= get_file_dicts(files_list)\n",
    "\n",
    "    results_list = [\"train_acc1\", \"train_loss\", \"test_acc1\", \"test_loss\", \"train_auc\", \"test_auc\"]\n",
    "    deep_dict = get_relevant_metrics(deep_dict, results_list)\n",
    "    fine_dict = get_relevant_metrics(fine_dict, results_list)\n",
    "\n",
    "    deep_out = get_aggregated_values(deep_dict)\n",
    "    fine_out = get_aggregated_values(fine_dict)\n",
    "\n",
    "    deep_out_df = get_mean_stddev(deep_out)\n",
    "    fine_out_df = get_mean_stddev(fine_out)\n",
    "\n",
    "    deep_out_df.to_csv(f\"{optimizer}_deep_tuned.csv\")\n",
    "    fine_out_df.to_csv(f\"{optimizer}_fine_tuned.csv\")"
   ],
   "metadata": {
    "collapsed": false,
    "pycharm": {
     "name": "#%%\n"
    }
   }
  },
  {
   "cell_type": "code",
   "execution_count": 11,
   "outputs": [],
   "source": [
    "# functions to parse stuff\n",
    "for optimizer in [\"Adas\",\n",
    "                  \"SAM\",\n",
    "                  \"AdaM\",\n",
    "                  \"SGDP\"]:\n",
    "    root = f\"C:\\\\Users\\\\ryanr\\\\Desktop\\\\Summer_Research\\\\HistoKT\\\\.adas-data\\\\results\\\\{optimizer}\\\\output\"\n",
    "    get_csvs(root, optimizer)"
   ],
   "metadata": {
    "collapsed": false,
    "pycharm": {
     "name": "#%%\n"
    }
   }
  },
  {
   "cell_type": "code",
   "execution_count": 9,
   "outputs": [
    {
     "data": {
      "text/plain": "<Figure size 432x288 with 0 Axes>"
     },
     "metadata": {},
     "output_type": "display_data"
    }
   ],
   "source": [
    "legend_list = []\n",
    "for metric, values in fine_out[\"lr-0.0002\"].items():\n",
    "    if \"test\" in metric:\n",
    "        plt.plot(np.arange(len(values)), values)\n",
    "        legend_list.append(metric)\n",
    "plt.legend(legend_list)\n",
    "plt.title(\"MHIST fine tuned using ADP, AdamP, lr-0.0002\")\n",
    "plt.xlabel(\"epochs\")\n",
    "plt.savefig(\"joeTest.png\")\n",
    "plt.clf()"
   ],
   "metadata": {
    "collapsed": false,
    "pycharm": {
     "name": "#%%\n"
    }
   }
  },
  {
   "cell_type": "code",
   "execution_count": null,
   "outputs": [],
   "source": [],
   "metadata": {
    "collapsed": false,
    "pycharm": {
     "name": "#%%\n"
    }
   }
  }
 ],
 "metadata": {
  "kernelspec": {
   "display_name": "Python 3",
   "language": "python",
   "name": "python3"
  },
  "language_info": {
   "codemirror_mode": {
    "name": "ipython",
    "version": 2
   },
   "file_extension": ".py",
   "mimetype": "text/x-python",
   "name": "python",
   "nbconvert_exporter": "python",
   "pygments_lexer": "ipython2",
   "version": "2.7.6"
  }
 },
 "nbformat": 4,
 "nbformat_minor": 0
}