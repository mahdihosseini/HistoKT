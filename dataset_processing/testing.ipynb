{
 "metadata": {
  "language_info": {
   "codemirror_mode": {
    "name": "ipython",
    "version": 3
   },
   "file_extension": ".py",
   "mimetype": "text/x-python",
   "name": "python",
   "nbconvert_exporter": "python",
   "pygments_lexer": "ipython3",
   "version": "3.9.1"
  },
  "orig_nbformat": 2,
  "kernelspec": {
   "name": "python3",
   "language": "python",
   "display_name": "Python 3"
  },
  "metadata": {
   "interpreter": {
    "hash": "63fd5069d213b44bf678585dea6b12cceca9941eaf7f819626cde1f2670de90d"
   }
  }
 },
 "nbformat": 4,
 "nbformat_minor": 2,
 "cells": [
  {
   "cell_type": "code",
   "execution_count": 3,
   "metadata": {},
   "outputs": [],
   "source": [
    "from utils import get_mean_and_std\n",
    "from datasets import MHIST, ADPDataset, AJLymph, OSDataset, PCam, CRC, GlaS, TransformedDataset\n",
    "import pandas as pd\n",
    "import numpy as np\n",
    "import torch\n",
    "from torchvision.transforms import ToTensor\n",
    "from preprocessing.transforms import print_imgs, ProcessImages\n",
    "import pickle\n",
    "from collections import defaultdict\n",
    "import matplotlib.pyplot as plt\n",
    "from datasets.BCSSDataset import BCSSDataset"
   ]
  },
  {
   "cell_type": "code",
   "execution_count": 8,
   "outputs": [
    {
     "name": "stdout",
     "output_type": "stream",
     "text": [
      "14288\n",
      "1786\n",
      "1787\n"
     ]
    }
   ],
   "source": [
    "for split in [\"train\", \"valid\", \"test\"]:\n",
    "    dataset = BCSSDataset(root=\"C:\\\\Users\\\\ryanr\\\\Desktop\\\\Summer_Research\\\\HistoKT\\\\.adas-data\\\\BCSS_transformed\",\n",
    "                          split=split,\n",
    "                          transform=ToTensor())\n",
    "    print(len(dataset))"
   ],
   "metadata": {
    "collapsed": false,
    "pycharm": {
     "name": "#%%\n"
    }
   }
  },
  {
   "cell_type": "code",
   "execution_count": null,
   "outputs": [],
   "source": [
    "filename = \"C:\\\\Users\\\\ryanr\\\\Desktop\\\\Summer_Research\\\\HistoKT\\\\.adas-data\\\\Osteosarcoma-UT\\\\ML_Features_1144.csv\"\n",
    "df = pd.read_csv(filename, header=0, index_col=\"Unnamed: 0\")"
   ],
   "metadata": {
    "collapsed": false,
    "pycharm": {
     "name": "#%%\n"
    }
   }
  },
  {
   "cell_type": "code",
   "execution_count": null,
   "outputs": [],
   "source": [
    "test = np.array([1, 2, 3, 4, 5])\n",
    "print(test.shape)"
   ],
   "metadata": {
    "collapsed": false,
    "pycharm": {
     "name": "#%%\n"
    }
   }
  },
  {
   "cell_type": "code",
   "execution_count": null,
   "metadata": {},
   "outputs": [],
   "source": [
    "AIDPATHDataset = TransformedDataset(transform = None,\n",
    "                root = \"..\\\\..\\\\.adas-data\\\\AIDPATH_transformed\",\n",
    "                split = \"test\")\n",
    "ADPdataset = ADPDataset(transform = None,\n",
    "                root = \"..\\\\..\\\\.adas-data\",\n",
    "                level = \"L3\",)\n",
    "OS_dataset = OSDataset(transform=None,\n",
    "                        root = \"..\\\\..\\\\.adas-data\")\n",
    "CRC_dataset = CRC(transform=None, root=\"..\\\\..\\\\.adas-data\")\n",
    "\n",
    "AJLymph_dataset = AJLymph(transform=None, root=\"..\\\\..\\\\.adas-data\")"
   ]
  },
  {
   "cell_type": "code",
   "execution_count": null,
   "outputs": [],
   "source": [
    "import matplotlib.pyplot as plt\n",
    "print(AIDPATHDataset.class_to_idx)\n",
    "print(len(AIDPATHDataset))\n",
    "plt.imshow(np.array(AIDPATHDataset[0][0]))\n",
    "plt.show()"
   ],
   "metadata": {
    "collapsed": false,
    "pycharm": {
     "name": "#%%\n"
    }
   }
  },
  {
   "cell_type": "code",
   "execution_count": null,
   "outputs": [],
   "source": [
    "import time\n",
    "start = time.time()\n",
    "processor = ProcessImages(AJLymph_dataset, target_folder=\"../../.adas-data/AJLymph_transformed\")\n",
    "processor.process(scale=.25, show_imgs=True)\n",
    "end = time.time()\n",
    "\n",
    "print(end-start)"
   ],
   "metadata": {
    "collapsed": false,
    "pycharm": {
     "name": "#%%\n"
    }
   }
  },
  {
   "cell_type": "code",
   "execution_count": null,
   "metadata": {
    "pycharm": {
     "name": "#%%\n"
    }
   },
   "outputs": [],
   "source": [
    "import pickle\n",
    "class_to_idx = pickle.load(open(\"../../.adas-data/testmhist_transformed/class_to_idx.pickle\", \"rb\"))\n",
    "train_split_samples = pickle.load(open(\"../../.adas-data/testmhist_transformed/train.pickle\", \"rb\"))"
   ]
  },
  {
   "cell_type": "code",
   "execution_count": null,
   "outputs": [],
   "source": [
    "print(train_split_samples[0:10])"
   ],
   "metadata": {
    "collapsed": false,
    "pycharm": {
     "name": "#%%\n"
    }
   }
  },
  {
   "cell_type": "code",
   "execution_count": null,
   "outputs": [],
   "source": [],
   "metadata": {
    "collapsed": false,
    "pycharm": {
     "name": "#%%\n"
    }
   }
  }
 ]
}