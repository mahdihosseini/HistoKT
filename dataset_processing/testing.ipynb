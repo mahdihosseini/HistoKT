{
 "metadata": {
  "language_info": {
   "codemirror_mode": {
    "name": "ipython",
    "version": 3
   },
   "file_extension": ".py",
   "mimetype": "text/x-python",
   "name": "python",
   "nbconvert_exporter": "python",
   "pygments_lexer": "ipython3",
   "version": "3.9.1"
  },
  "orig_nbformat": 2,
  "kernelspec": {
   "name": "python3",
   "language": "python",
   "display_name": "Python 3"
  },
  "metadata": {
   "interpreter": {
    "hash": "63fd5069d213b44bf678585dea6b12cceca9941eaf7f819626cde1f2670de90d"
   }
  }
 },
 "nbformat": 4,
 "nbformat_minor": 2,
 "cells": [
  {
   "cell_type": "code",
   "execution_count": 1,
   "metadata": {},
   "outputs": [],
   "source": [
    "from utils import get_mean_and_std\n",
    "from datasets import MHIST, ADPDataset, AJLymph, OSDataset, PCam, CRC, GlaS, TransformedDataset\n",
    "import pandas as pd\n",
    "import numpy as np\n",
    "import torch\n",
    "from torchvision.transforms import ToTensor\n",
    "from preprocessing.transforms import print_imgs, ProcessImages\n",
    "import pickle"
   ]
  },
  {
   "cell_type": "code",
   "execution_count": 3,
   "outputs": [],
   "source": [
    "samples = pickle.load(open(\"C:\\\\Users\\\\ryanr\\\\Desktop\\\\Summer_Research\\\\HistoKT\\\\.adas-data\\\\BCSS_transformed\\\\test.pickle\", \"rb\"))"
   ],
   "metadata": {
    "collapsed": false,
    "pycharm": {
     "name": "#%%\n"
    }
   }
  },
  {
   "cell_type": "code",
   "execution_count": 4,
   "outputs": [
    {
     "name": "stdout",
     "output_type": "stream",
     "text": [
      "[('0_Public-data-Amgad2019_0.25MPP\\\\rgbs_colorNormalized\\\\TCGA-C8-A12V-DX1_xmin11056_ymin54401_MPP-0.2500-38.png', array([0.00000000e+00, 1.76524654e-01, 3.84934580e-01, 4.15197881e-01,\n",
      "       2.71680363e-03, 6.12294550e-03, 1.26919334e-02, 5.40657439e-05,\n",
      "       4.05493080e-05, 4.05493080e-05, 4.05493080e-05, 4.05493080e-05,\n",
      "       8.10986159e-05, 4.05493080e-05, 6.75821799e-05, 5.40657439e-05,\n",
      "       1.89230104e-04, 5.13624567e-04, 6.48788927e-04, 0.00000000e+00,\n",
      "       0.00000000e+00, 0.00000000e+00])), ('0_Public-data-Amgad2019_0.25MPP\\\\rgbs_colorNormalized\\\\TCGA-D8-A142-DX1_xmin62151_ymin41337_MPP-0.2500-132.png', array([0.        , 0.75021626, 0.12935229, 0.00769085, 0.11274059,\n",
      "       0.        , 0.        , 0.        , 0.        , 0.        ,\n",
      "       0.        , 0.        , 0.        , 0.        , 0.        ,\n",
      "       0.        , 0.        , 0.        , 0.        , 0.        ,\n",
      "       0.        , 0.        ])), ('0_Public-data-Amgad2019_0.25MPP\\\\rgbs_colorNormalized\\\\TCGA-A7-A0DA-DX1_xmin43731_ymin18175_MPP-0.2500-83.png', array([0.00000000e+00, 1.11415982e-01, 7.44755623e-01, 9.19117647e-04,\n",
      "       9.59666955e-04, 9.46150519e-04, 7.02854671e-04, 7.56920415e-04,\n",
      "       8.24502595e-04, 7.56920415e-04, 5.13624567e-04, 6.35272491e-04,\n",
      "       9.46150519e-04, 1.06779844e-03, 1.13538062e-03, 1.98691609e-03,\n",
      "       3.74405277e-03, 1.30163279e-02, 1.14916739e-01, 0.00000000e+00,\n",
      "       0.00000000e+00, 0.00000000e+00])), ('0_Public-data-Amgad2019_0.25MPP\\\\rgbs_colorNormalized\\\\TCGA-AO-A0J6-DX1_xmin40548_ymin11135_MPP-0.2500-23.png', array([0.72252109, 0.27747891, 0.        , 0.        , 0.        ,\n",
      "       0.        , 0.        , 0.        , 0.        , 0.        ,\n",
      "       0.        , 0.        , 0.        , 0.        , 0.        ,\n",
      "       0.        , 0.        , 0.        , 0.        , 0.        ,\n",
      "       0.        , 0.        ])), ('0_Public-data-Amgad2019_0.25MPP\\\\rgbs_colorNormalized\\\\TCGA-A2-A3XX-DX1_xmin69942_ymin41560_MPP-0.2500-0.png', array([0.69256866, 0.30743134, 0.        , 0.        , 0.        ,\n",
      "       0.        , 0.        , 0.        , 0.        , 0.        ,\n",
      "       0.        , 0.        , 0.        , 0.        , 0.        ,\n",
      "       0.        , 0.        , 0.        , 0.        , 0.        ,\n",
      "       0.        , 0.        ])), ('0_Public-data-Amgad2019_0.25MPP\\\\rgbs_colorNormalized\\\\TCGA-A7-A0DA-DX1_xmin43731_ymin18175_MPP-0.2500-8.png', array([0.        , 0.96346507, 0.03653493, 0.        , 0.        ,\n",
      "       0.        , 0.        , 0.        , 0.        , 0.        ,\n",
      "       0.        , 0.        , 0.        , 0.        , 0.        ,\n",
      "       0.        , 0.        , 0.        , 0.        , 0.        ,\n",
      "       0.        , 0.        ])), ('0_Public-data-Amgad2019_0.25MPP\\\\rgbs_colorNormalized\\\\TCGA-D8-A143-DX1_xmin52429_ymin19478_MPP-0.2500-50.png', array([0.00000000e+00, 3.86691717e-01, 5.94263625e-01, 6.48788927e-04,\n",
      "       5.54173875e-04, 7.83953287e-04, 9.46150519e-04, 1.54087370e-03,\n",
      "       3.89273356e-03, 1.06779844e-02, 0.00000000e+00, 0.00000000e+00,\n",
      "       0.00000000e+00, 0.00000000e+00, 0.00000000e+00, 0.00000000e+00,\n",
      "       0.00000000e+00, 0.00000000e+00, 0.00000000e+00, 0.00000000e+00,\n",
      "       0.00000000e+00, 0.00000000e+00])), ('0_Public-data-Amgad2019_0.25MPP\\\\rgbs_colorNormalized\\\\TCGA-GM-A3XL-DX1_xmin29910_ymin15820_MPP-0.2500-28.png', array([0.        , 0.39395004, 0.00751514, 0.00812338, 0.56796064,\n",
      "       0.00133813, 0.00294658, 0.01816609, 0.        , 0.        ,\n",
      "       0.        , 0.        , 0.        , 0.        , 0.        ,\n",
      "       0.        , 0.        , 0.        , 0.        , 0.        ,\n",
      "       0.        , 0.        ])), ('0_Public-data-Amgad2019_0.25MPP\\\\rgbs_colorNormalized\\\\TCGA-A7-A0DA-DX1_xmin43731_ymin18175_MPP-0.2500-82.png', array([0.00000000e+00, 1.68212046e-01, 7.37551362e-01, 6.75821799e-04,\n",
      "       7.43403979e-04, 3.64943772e-04, 5.54173875e-04, 4.32525952e-04,\n",
      "       4.73075260e-04, 3.78460208e-04, 2.97361592e-04, 5.81206747e-04,\n",
      "       5.40657439e-04, 5.54173875e-04, 7.16371107e-04, 1.22999567e-03,\n",
      "       2.27076125e-03, 8.32612457e-03, 7.60975346e-02, 0.00000000e+00,\n",
      "       0.00000000e+00, 0.00000000e+00])), ('0_Public-data-Amgad2019_0.25MPP\\\\rgbs_colorNormalized\\\\TCGA-A7-A0DA-DX1_xmin43731_ymin18175_MPP-0.2500-13.png', array([0., 1., 0., 0., 0., 0., 0., 0., 0., 0., 0., 0., 0., 0., 0., 0., 0.,\n",
      "       0., 0., 0., 0., 0.]))]\n"
     ]
    }
   ],
   "source": [
    "print(samples[0:10])"
   ],
   "metadata": {
    "collapsed": false,
    "pycharm": {
     "name": "#%%\n"
    }
   }
  },
  {
   "cell_type": "code",
   "execution_count": null,
   "metadata": {},
   "outputs": [],
   "source": [
    "%matplotlib inline"
   ]
  },
  {
   "cell_type": "code",
   "execution_count": null,
   "outputs": [],
   "source": [
    "filename = \"C:\\\\Users\\\\ryanr\\\\Desktop\\\\Summer_Research\\\\HistoKT\\\\.adas-data\\\\Osteosarcoma-UT\\\\ML_Features_1144.csv\"\n",
    "df = pd.read_csv(filename, header=0, index_col=\"Unnamed: 0\")"
   ],
   "metadata": {
    "collapsed": false,
    "pycharm": {
     "name": "#%%\n"
    }
   }
  },
  {
   "cell_type": "code",
   "execution_count": null,
   "outputs": [],
   "source": [
    "test = np.array([1, 2, 3, 4, 5])\n",
    "print(test.shape)"
   ],
   "metadata": {
    "collapsed": false,
    "pycharm": {
     "name": "#%%\n"
    }
   }
  },
  {
   "cell_type": "code",
   "execution_count": null,
   "metadata": {},
   "outputs": [],
   "source": [
    "AIDPATHDataset = TransformedDataset(transform = None,\n",
    "                root = \"..\\\\..\\\\.adas-data\\\\AIDPATH_transformed\",\n",
    "                split = \"test\")\n",
    "ADPdataset = ADPDataset(transform = None,\n",
    "                root = \"..\\\\..\\\\.adas-data\",\n",
    "                level = \"L3\",)\n",
    "OS_dataset = OSDataset(transform=None,\n",
    "                        root = \"..\\\\..\\\\.adas-data\")\n",
    "CRC_dataset = CRC(transform=None, root=\"..\\\\..\\\\.adas-data\")\n",
    "\n",
    "AJLymph_dataset = AJLymph(transform=None, root=\"..\\\\..\\\\.adas-data\")"
   ]
  },
  {
   "cell_type": "code",
   "execution_count": null,
   "outputs": [],
   "source": [
    "import matplotlib.pyplot as plt\n",
    "print(AIDPATHDataset.class_to_idx)\n",
    "print(len(AIDPATHDataset))\n",
    "plt.imshow(np.array(AIDPATHDataset[0][0]))\n",
    "plt.show()"
   ],
   "metadata": {
    "collapsed": false,
    "pycharm": {
     "name": "#%%\n"
    }
   }
  },
  {
   "cell_type": "code",
   "execution_count": null,
   "outputs": [],
   "source": [
    "import time\n",
    "start = time.time()\n",
    "processor = ProcessImages(AJLymph_dataset, target_folder=\"../../.adas-data/AJLymph_transformed\")\n",
    "processor.process(scale=.25, show_imgs=True)\n",
    "end = time.time()\n",
    "\n",
    "print(end-start)"
   ],
   "metadata": {
    "collapsed": false,
    "pycharm": {
     "name": "#%%\n"
    }
   }
  },
  {
   "cell_type": "code",
   "execution_count": null,
   "metadata": {
    "pycharm": {
     "name": "#%%\n"
    }
   },
   "outputs": [],
   "source": [
    "import pickle\n",
    "class_to_idx = pickle.load(open(\"../../.adas-data/testmhist_transformed/class_to_idx.pickle\", \"rb\"))\n",
    "train_split_samples = pickle.load(open(\"../../.adas-data/testmhist_transformed/train.pickle\", \"rb\"))"
   ]
  },
  {
   "cell_type": "code",
   "execution_count": null,
   "outputs": [],
   "source": [
    "print(train_split_samples[0:10])"
   ],
   "metadata": {
    "collapsed": false,
    "pycharm": {
     "name": "#%%\n"
    }
   }
  },
  {
   "cell_type": "code",
   "execution_count": null,
   "outputs": [],
   "source": [],
   "metadata": {
    "collapsed": false,
    "pycharm": {
     "name": "#%%\n"
    }
   }
  }
 ]
}