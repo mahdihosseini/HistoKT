{
 "metadata": {
  "language_info": {
   "codemirror_mode": {
    "name": "ipython",
    "version": 3
   },
   "file_extension": ".py",
   "mimetype": "text/x-python",
   "name": "python",
   "nbconvert_exporter": "python",
   "pygments_lexer": "ipython3",
   "version": "3.9.1"
  },
  "orig_nbformat": 2,
  "kernelspec": {
   "name": "pythonjvsc74a57bd01bc55f2255bc4da5cd50f56b298a087d2b31bec052ebfb25f97e890e1be9c347",
   "display_name": "Python 3.9.1  ('env': venv)"
  },
  "metadata": {
   "interpreter": {
    "hash": "1bc55f2255bc4da5cd50f56b298a087d2b31bec052ebfb25f97e890e1be9c347"
   }
  }
 },
 "nbformat": 4,
 "nbformat_minor": 2,
 "cells": [
  {
   "cell_type": "code",
   "execution_count": 1,
   "metadata": {},
   "outputs": [],
   "source": [
    "from utils import get_mean_and_std\n",
    "from datasets import ADP_dataset\n",
    "import torch\n",
    "from torchvision.transforms import ToTensor"
   ]
  },
  {
   "cell_type": "code",
   "execution_count": 2,
   "metadata": {},
   "outputs": [],
   "source": [
    "dataset = ADP_dataset(level = \"L3\", \n",
    "                      transform = ToTensor(), \n",
    "                      root = \"..\\\\..\\\\.adas-data\")"
   ]
  },
  {
   "cell_type": "code",
   "execution_count": 3,
   "metadata": {},
   "outputs": [
    {
     "output_type": "stream",
     "name": "stdout",
     "text": [
      "(tensor([[[0.8745, 0.8706, 0.8431,  ..., 0.8549, 0.8392, 0.9294],\n         [0.8863, 0.9451, 0.8549,  ..., 0.8471, 0.8275, 0.9216],\n         [0.8627, 0.9725, 0.8784,  ..., 0.8353, 0.8314, 0.9255],\n         ...,\n         [0.8000, 0.6627, 0.5608,  ..., 0.9098, 0.8902, 0.8784],\n         [0.8549, 0.7843, 0.7020,  ..., 0.8980, 0.9059, 0.8980],\n         [0.9059, 0.8784, 0.8157,  ..., 0.8863, 0.9020, 0.9176]],\n\n        [[0.4980, 0.5725, 0.6392,  ..., 0.5569, 0.4627, 0.6667],\n         [0.5216, 0.6627, 0.6392,  ..., 0.5451, 0.4510, 0.6471],\n         [0.5059, 0.6902, 0.6431,  ..., 0.5137, 0.4706, 0.6745],\n         ...,\n         [0.4392, 0.3529, 0.2941,  ..., 0.4824, 0.4667, 0.4588],\n         [0.4784, 0.4392, 0.3922,  ..., 0.4941, 0.5216, 0.5412],\n         [0.5686, 0.5333, 0.4706,  ..., 0.5098, 0.5255, 0.5529]],\n\n        [[0.7843, 0.8314, 0.8431,  ..., 0.7804, 0.7765, 0.8706],\n         [0.8000, 0.9176, 0.8588,  ..., 0.7608, 0.7608, 0.8588],\n         [0.7765, 0.9608, 0.8980,  ..., 0.7569, 0.7569, 0.8824],\n         ...,\n         [0.7647, 0.6745, 0.6314,  ..., 0.8118, 0.7725, 0.7725],\n         [0.7765, 0.7412, 0.7137,  ..., 0.8078, 0.8078, 0.8157],\n         [0.8314, 0.8078, 0.7608,  ..., 0.7922, 0.8157, 0.8353]]]), tensor([0., 0., 0., 0., 0., 0., 0., 1., 1., 1., 0., 0., 0., 0., 0., 0., 0., 0.,\n        0., 0., 0., 0., 0., 1., 0., 0., 0., 0., 0., 0., 0., 0., 0.]))\n"
     ]
    }
   ],
   "source": [
    "print(dataset[0])"
   ]
  },
  {
   "cell_type": "code",
   "execution_count": 3,
   "metadata": {},
   "outputs": [],
   "source": [
    "mean, std = get_mean_and_std(dataset)"
   ]
  },
  {
   "cell_type": "code",
   "execution_count": 4,
   "metadata": {},
   "outputs": [
    {
     "output_type": "stream",
     "name": "stdout",
     "text": [
      "0.8123379945755005 0.6403247714042664 0.8190215229988098\n0.18129701912403107 0.2573166787624359 0.16800649464130402\n"
     ]
    }
   ],
   "source": [
    "print(mean[0].item(), mean[1].item(), mean[2].item())\n",
    "print(std[0].item(), std[1].item(), std[2].item())"
   ]
  },
  {
   "source": [
    "batch_size = 32\r\n",
    "num_workers = 0\r\n",
    "shuffle = False   \r\n",
    "get_mean_and_std(dataset)"
   ],
   "cell_type": "code",
   "metadata": {},
   "execution_count": null,
   "outputs": []
  },
  {
   "cell_type": "code",
   "execution_count": null,
   "metadata": {},
   "outputs": [],
   "source": []
  }
 ]
}