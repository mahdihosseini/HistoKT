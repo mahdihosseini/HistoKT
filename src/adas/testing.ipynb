{
 "metadata": {
  "language_info": {
   "codemirror_mode": {
    "name": "ipython",
    "version": 3
   },
   "file_extension": ".py",
   "mimetype": "text/x-python",
   "name": "python",
   "nbconvert_exporter": "python",
   "pygments_lexer": "ipython3",
   "version": "3.9.1"
  },
  "orig_nbformat": 2,
  "kernelspec": {
   "name": "python391jvsc74a57bd01bc55f2255bc4da5cd50f56b298a087d2b31bec052ebfb25f97e890e1be9c347",
   "display_name": "Python 3.9.1 64-bit ('env': venv)",
   "language": "python"
  },
  "metadata": {
   "interpreter": {
    "hash": "63fd5069d213b44bf678585dea6b12cceca9941eaf7f819626cde1f2670de90d"
   }
  }
 },
 "nbformat": 4,
 "nbformat_minor": 2,
 "cells": [
  {
   "cell_type": "code",
   "execution_count": 4,
   "metadata": {},
   "outputs": [],
   "source": [
    "from utils import get_mean_and_std\n",
    "from datasets import ADP_dataset\n",
    "import torch\n",
    "from torchvision.transforms import ToTensor"
   ]
  },
  {
   "cell_type": "code",
   "execution_count": 5,
   "metadata": {},
   "outputs": [],
   "source": [
    "dataset = ADP_dataset(level = \"L3\", \n",
    "                      transform = ToTensor(), \n",
    "                      root = \"..\\\\..\\\\.adas-data\")"
   ]
  },
  {
   "cell_type": "code",
   "execution_count": 6,
   "metadata": {},
   "outputs": [],
   "source": [
    "mean, std = get_mean_and_std(dataset)"
   ]
  },
  {
   "cell_type": "code",
   "execution_count": 12,
   "metadata": {},
   "outputs": [
    {
     "output_type": "stream",
     "name": "stdout",
     "text": [
      "0.8123379945755005 0.6403247714042664 0.8190215229988098\n0.18129701912403107 0.2573166787624359 0.16800649464130402\n"
     ]
    }
   ],
   "source": [
    "print(mean[0].item(), mean[1].item(), mean[2].item())\n",
    "print(std[0].item(), std[1].item(), std[2].item())"
   ]
  },
  {
   "source": [
    "batch_size = 32\r\n",
    "num_workers = 0\r\n",
    "shuffle = False   \r\n",
    "get_mean_and_std(dataset)"
   ],
   "cell_type": "code",
   "metadata": {},
   "execution_count": null,
   "outputs": []
  },
  {
   "cell_type": "code",
   "execution_count": null,
   "metadata": {},
   "outputs": [],
   "source": []
  }
 ]
}