{
 "cells": [
  {
   "cell_type": "code",
   "execution_count": 15,
   "metadata": {
    "collapsed": true
   },
   "outputs": [],
   "source": [
    "import torch\n",
    "from loader import ModelLoader"
   ]
  },
  {
   "cell_type": "code",
   "execution_count": 16,
   "outputs": [],
   "source": [
    "file_path = \"../.adas-data/best.pth.tar\"\n",
    "loader = ModelLoader.load_from_path(file_path)"
   ],
   "metadata": {
    "collapsed": false,
    "pycharm": {
     "name": "#%%\n"
    }
   }
  },
  {
   "cell_type": "code",
   "execution_count": 17,
   "outputs": [],
   "source": [
    "loader.replace_last_layer(torch.nn.Linear(512, 2))"
   ],
   "metadata": {
    "collapsed": false,
    "pycharm": {
     "name": "#%%\n"
    }
   }
  },
  {
   "cell_type": "code",
   "execution_count": 18,
   "outputs": [
    {
     "name": "stdout",
     "output_type": "stream",
     "text": [
      "conv1.weight requires grad: False\n",
      "bn1.weight requires grad: False\n",
      "bn1.bias requires grad: False\n",
      "layer1.0.conv1.weight requires grad: False\n",
      "layer1.0.bn1.weight requires grad: False\n",
      "layer1.0.bn1.bias requires grad: False\n",
      "layer1.0.conv2.weight requires grad: False\n",
      "layer1.0.bn2.weight requires grad: False\n",
      "layer1.0.bn2.bias requires grad: False\n",
      "layer1.1.conv1.weight requires grad: False\n",
      "layer1.1.bn1.weight requires grad: False\n",
      "layer1.1.bn1.bias requires grad: False\n",
      "layer1.1.conv2.weight requires grad: False\n",
      "layer1.1.bn2.weight requires grad: False\n",
      "layer1.1.bn2.bias requires grad: False\n",
      "layer2.0.conv1.weight requires grad: False\n",
      "layer2.0.bn1.weight requires grad: False\n",
      "layer2.0.bn1.bias requires grad: False\n",
      "layer2.0.conv2.weight requires grad: False\n",
      "layer2.0.bn2.weight requires grad: False\n",
      "layer2.0.bn2.bias requires grad: False\n",
      "layer2.0.downsample.0.weight requires grad: False\n",
      "layer2.0.downsample.1.weight requires grad: False\n",
      "layer2.0.downsample.1.bias requires grad: False\n",
      "layer2.1.conv1.weight requires grad: False\n",
      "layer2.1.bn1.weight requires grad: False\n",
      "layer2.1.bn1.bias requires grad: False\n",
      "layer2.1.conv2.weight requires grad: False\n",
      "layer2.1.bn2.weight requires grad: False\n",
      "layer2.1.bn2.bias requires grad: False\n",
      "layer3.0.conv1.weight requires grad: False\n",
      "layer3.0.bn1.weight requires grad: False\n",
      "layer3.0.bn1.bias requires grad: False\n",
      "layer3.0.conv2.weight requires grad: False\n",
      "layer3.0.bn2.weight requires grad: False\n",
      "layer3.0.bn2.bias requires grad: False\n",
      "layer3.0.downsample.0.weight requires grad: False\n",
      "layer3.0.downsample.1.weight requires grad: False\n",
      "layer3.0.downsample.1.bias requires grad: False\n",
      "layer3.1.conv1.weight requires grad: False\n",
      "layer3.1.bn1.weight requires grad: False\n",
      "layer3.1.bn1.bias requires grad: False\n",
      "layer3.1.conv2.weight requires grad: False\n",
      "layer3.1.bn2.weight requires grad: False\n",
      "layer3.1.bn2.bias requires grad: False\n",
      "layer4.0.conv1.weight requires grad: False\n",
      "layer4.0.bn1.weight requires grad: False\n",
      "layer4.0.bn1.bias requires grad: False\n",
      "layer4.0.conv2.weight requires grad: False\n",
      "layer4.0.bn2.weight requires grad: False\n",
      "layer4.0.bn2.bias requires grad: False\n",
      "layer4.0.downsample.0.weight requires grad: False\n",
      "layer4.0.downsample.1.weight requires grad: False\n",
      "layer4.0.downsample.1.bias requires grad: False\n",
      "layer4.1.conv1.weight requires grad: False\n",
      "layer4.1.bn1.weight requires grad: False\n",
      "layer4.1.bn1.bias requires grad: False\n",
      "layer4.1.conv2.weight requires grad: False\n",
      "layer4.1.bn2.weight requires grad: False\n",
      "layer4.1.bn2.bias requires grad: False\n",
      "fc.weight requires grad: True\n",
      "fc.bias requires grad: True\n"
     ]
    }
   ],
   "source": [
    "loader.check_grad()"
   ],
   "metadata": {
    "collapsed": false,
    "pycharm": {
     "name": "#%%\n"
    }
   }
  },
  {
   "cell_type": "code",
   "execution_count": null,
   "outputs": [],
   "source": [],
   "metadata": {
    "collapsed": false,
    "pycharm": {
     "name": "#%%\n"
    }
   }
  }
 ],
 "metadata": {
  "kernelspec": {
   "display_name": "Python 3",
   "language": "python",
   "name": "python3"
  },
  "language_info": {
   "codemirror_mode": {
    "name": "ipython",
    "version": 2
   },
   "file_extension": ".py",
   "mimetype": "text/x-python",
   "name": "python",
   "nbconvert_exporter": "python",
   "pygments_lexer": "ipython2",
   "version": "2.7.6"
  }
 },
 "nbformat": 4,
 "nbformat_minor": 0
}